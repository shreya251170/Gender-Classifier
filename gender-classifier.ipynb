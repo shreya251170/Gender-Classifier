{
 "cells": [
  {
   "cell_type": "code",
   "execution_count": 1,
   "id": "heated-amateur",
   "metadata": {
    "execution": {
     "iopub.execute_input": "2021-06-30T10:42:00.819292Z",
     "iopub.status.busy": "2021-06-30T10:42:00.818063Z",
     "iopub.status.idle": "2021-06-30T10:42:01.780216Z",
     "shell.execute_reply": "2021-06-30T10:42:01.778929Z",
     "shell.execute_reply.started": "2021-06-30T10:24:25.996224Z"
    },
    "id": "m_At3ntDAypU",
    "papermill": {
     "duration": 1.002721,
     "end_time": "2021-06-30T10:42:01.780441",
     "exception": false,
     "start_time": "2021-06-30T10:42:00.777720",
     "status": "completed"
    },
    "tags": []
   },
   "outputs": [],
   "source": [
    "import numpy as np\n",
    "import pandas as pd\n",
    "import seaborn as sns"
   ]
  },
  {
   "cell_type": "code",
   "execution_count": 2,
   "id": "occasional-python",
   "metadata": {
    "execution": {
     "iopub.execute_input": "2021-06-30T10:42:01.860050Z",
     "iopub.status.busy": "2021-06-30T10:42:01.859176Z",
     "iopub.status.idle": "2021-06-30T10:42:01.861040Z",
     "shell.execute_reply": "2021-06-30T10:42:01.861559Z",
     "shell.execute_reply.started": "2021-06-30T10:24:27.051179Z"
    },
    "id": "HC-pnhvwAypX",
    "papermill": {
     "duration": 0.045341,
     "end_time": "2021-06-30T10:42:01.861797",
     "exception": false,
     "start_time": "2021-06-30T10:42:01.816456",
     "status": "completed"
    },
    "tags": []
   },
   "outputs": [],
   "source": [
    "%matplotlib inline"
   ]
  },
  {
   "cell_type": "code",
   "execution_count": 3,
   "id": "bronze-uniform",
   "metadata": {
    "execution": {
     "iopub.execute_input": "2021-06-30T10:42:01.935702Z",
     "iopub.status.busy": "2021-06-30T10:42:01.934949Z",
     "iopub.status.idle": "2021-06-30T10:42:02.480881Z",
     "shell.execute_reply": "2021-06-30T10:42:02.480286Z",
     "shell.execute_reply.started": "2021-06-30T10:24:27.059952Z"
    },
    "id": "6b3sRGLaAypY",
    "outputId": "9438b9df-d63d-491f-b8bf-34a1631fd863",
    "papermill": {
     "duration": 0.58427,
     "end_time": "2021-06-30T10:42:02.481065",
     "exception": false,
     "start_time": "2021-06-30T10:42:01.896795",
     "status": "completed"
    },
    "tags": []
   },
   "outputs": [
    {
     "data": {
      "text/html": [
       "<div>\n",
       "<style scoped>\n",
       "    .dataframe tbody tr th:only-of-type {\n",
       "        vertical-align: middle;\n",
       "    }\n",
       "\n",
       "    .dataframe tbody tr th {\n",
       "        vertical-align: top;\n",
       "    }\n",
       "\n",
       "    .dataframe thead th {\n",
       "        text-align: right;\n",
       "    }\n",
       "</style>\n",
       "<table border=\"1\" class=\"dataframe\">\n",
       "  <thead>\n",
       "    <tr style=\"text-align: right;\">\n",
       "      <th></th>\n",
       "      <th>Id</th>\n",
       "      <th>Name</th>\n",
       "      <th>Count</th>\n",
       "      <th>Race</th>\n",
       "      <th>Gender</th>\n",
       "    </tr>\n",
       "  </thead>\n",
       "  <tbody>\n",
       "    <tr>\n",
       "      <th>0</th>\n",
       "      <td>0</td>\n",
       "      <td>Jayton</td>\n",
       "      <td>8.0</td>\n",
       "      <td>USA</td>\n",
       "      <td>0</td>\n",
       "    </tr>\n",
       "    <tr>\n",
       "      <th>1</th>\n",
       "      <td>1</td>\n",
       "      <td>Jorgen</td>\n",
       "      <td>13.0</td>\n",
       "      <td>USA</td>\n",
       "      <td>0</td>\n",
       "    </tr>\n",
       "    <tr>\n",
       "      <th>2</th>\n",
       "      <td>2</td>\n",
       "      <td>Sahir</td>\n",
       "      <td>20.0</td>\n",
       "      <td>USA</td>\n",
       "      <td>0</td>\n",
       "    </tr>\n",
       "    <tr>\n",
       "      <th>3</th>\n",
       "      <td>3</td>\n",
       "      <td>Jenneffer</td>\n",
       "      <td>5.0</td>\n",
       "      <td>USA</td>\n",
       "      <td>1</td>\n",
       "    </tr>\n",
       "    <tr>\n",
       "      <th>4</th>\n",
       "      <td>4</td>\n",
       "      <td>Maceo</td>\n",
       "      <td>32.0</td>\n",
       "      <td>USA</td>\n",
       "      <td>0</td>\n",
       "    </tr>\n",
       "  </tbody>\n",
       "</table>\n",
       "</div>"
      ],
      "text/plain": [
       "   Id       Name  Count Race  Gender\n",
       "0   0     Jayton    8.0  USA       0\n",
       "1   1     Jorgen   13.0  USA       0\n",
       "2   2      Sahir   20.0  USA       0\n",
       "3   3  Jenneffer    5.0  USA       1\n",
       "4   4      Maceo   32.0  USA       0"
      ]
     },
     "execution_count": 3,
     "metadata": {},
     "output_type": "execute_result"
    }
   ],
   "source": [
    "train_data = pd.read_csv(r'../input/classifying-names/X_train_K.txt', delimiter = \",\")\n",
    "train_data.head()"
   ]
  },
  {
   "cell_type": "code",
   "execution_count": 4,
   "id": "plastic-palmer",
   "metadata": {
    "execution": {
     "iopub.execute_input": "2021-06-30T10:42:02.559385Z",
     "iopub.status.busy": "2021-06-30T10:42:02.558371Z",
     "iopub.status.idle": "2021-06-30T10:42:02.743572Z",
     "shell.execute_reply": "2021-06-30T10:42:02.742932Z",
     "shell.execute_reply.started": "2021-06-30T10:24:27.600043Z"
    },
    "id": "Ufce1oa6AypZ",
    "outputId": "f8bd4b3b-0c60-44a7-94f3-22c2e52f8353",
    "papermill": {
     "duration": 0.225708,
     "end_time": "2021-06-30T10:42:02.743768",
     "exception": false,
     "start_time": "2021-06-30T10:42:02.518060",
     "status": "completed"
    },
    "tags": []
   },
   "outputs": [
    {
     "data": {
      "text/html": [
       "<div>\n",
       "<style scoped>\n",
       "    .dataframe tbody tr th:only-of-type {\n",
       "        vertical-align: middle;\n",
       "    }\n",
       "\n",
       "    .dataframe tbody tr th {\n",
       "        vertical-align: top;\n",
       "    }\n",
       "\n",
       "    .dataframe thead th {\n",
       "        text-align: right;\n",
       "    }\n",
       "</style>\n",
       "<table border=\"1\" class=\"dataframe\">\n",
       "  <thead>\n",
       "    <tr style=\"text-align: right;\">\n",
       "      <th></th>\n",
       "      <th>Id</th>\n",
       "      <th>Name</th>\n",
       "      <th>Count</th>\n",
       "      <th>Race</th>\n",
       "    </tr>\n",
       "  </thead>\n",
       "  <tbody>\n",
       "    <tr>\n",
       "      <th>0</th>\n",
       "      <td>299064</td>\n",
       "      <td>Aundria</td>\n",
       "      <td>8.0</td>\n",
       "      <td>USA</td>\n",
       "    </tr>\n",
       "    <tr>\n",
       "      <th>1</th>\n",
       "      <td>299065</td>\n",
       "      <td>Traviss</td>\n",
       "      <td>5.0</td>\n",
       "      <td>USA</td>\n",
       "    </tr>\n",
       "    <tr>\n",
       "      <th>2</th>\n",
       "      <td>299066</td>\n",
       "      <td>Daleon</td>\n",
       "      <td>8.0</td>\n",
       "      <td>USA</td>\n",
       "    </tr>\n",
       "    <tr>\n",
       "      <th>3</th>\n",
       "      <td>299067</td>\n",
       "      <td>Porchia</td>\n",
       "      <td>48.0</td>\n",
       "      <td>USA</td>\n",
       "    </tr>\n",
       "    <tr>\n",
       "      <th>4</th>\n",
       "      <td>299068</td>\n",
       "      <td>Josealfredo</td>\n",
       "      <td>7.0</td>\n",
       "      <td>USA</td>\n",
       "    </tr>\n",
       "  </tbody>\n",
       "</table>\n",
       "</div>"
      ],
      "text/plain": [
       "       Id         Name  Count Race\n",
       "0  299064      Aundria    8.0  USA\n",
       "1  299065      Traviss    5.0  USA\n",
       "2  299066       Daleon    8.0  USA\n",
       "3  299067      Porchia   48.0  USA\n",
       "4  299068  Josealfredo    7.0  USA"
      ]
     },
     "execution_count": 4,
     "metadata": {},
     "output_type": "execute_result"
    }
   ],
   "source": [
    "test_data = pd.read_csv(r'../input/classifying-names/Train_K.txt', delimiter = \",\")\n",
    "test_data.head()"
   ]
  },
  {
   "cell_type": "code",
   "execution_count": 5,
   "id": "greater-conversion",
   "metadata": {
    "execution": {
     "iopub.execute_input": "2021-06-30T10:42:02.825675Z",
     "iopub.status.busy": "2021-06-30T10:42:02.824245Z",
     "iopub.status.idle": "2021-06-30T10:42:02.833178Z",
     "shell.execute_reply": "2021-06-30T10:42:02.832454Z",
     "shell.execute_reply.started": "2021-06-30T10:24:27.748828Z"
    },
    "id": "AsPCfflgAypk",
    "papermill": {
     "duration": 0.053525,
     "end_time": "2021-06-30T10:42:02.833365",
     "exception": false,
     "start_time": "2021-06-30T10:42:02.779840",
     "status": "completed"
    },
    "tags": []
   },
   "outputs": [],
   "source": [
    "#Filling training data count column's NA Values with mean\n",
    "train_data['Count'].fillna(value=train_data['Count'].mean(), inplace=True)"
   ]
  },
  {
   "cell_type": "code",
   "execution_count": 6,
   "id": "rolled-dallas",
   "metadata": {
    "execution": {
     "iopub.execute_input": "2021-06-30T10:42:02.912425Z",
     "iopub.status.busy": "2021-06-30T10:42:02.911298Z",
     "iopub.status.idle": "2021-06-30T10:42:02.916090Z",
     "shell.execute_reply": "2021-06-30T10:42:02.916599Z",
     "shell.execute_reply.started": "2021-06-30T10:24:27.762993Z"
    },
    "id": "UnfV2BHXAypk",
    "papermill": {
     "duration": 0.047708,
     "end_time": "2021-06-30T10:42:02.916834",
     "exception": false,
     "start_time": "2021-06-30T10:42:02.869126",
     "status": "completed"
    },
    "tags": []
   },
   "outputs": [],
   "source": [
    "#Filling testing data count column's NA Values with mean \n",
    "test_data['Count'].fillna(value=test_data['Count'].mean(), inplace=True)"
   ]
  },
  {
   "cell_type": "code",
   "execution_count": 7,
   "id": "demonstrated-positive",
   "metadata": {
    "execution": {
     "iopub.execute_input": "2021-06-30T10:42:03.006739Z",
     "iopub.status.busy": "2021-06-30T10:42:03.004972Z",
     "iopub.status.idle": "2021-06-30T10:42:03.065451Z",
     "shell.execute_reply": "2021-06-30T10:42:03.064822Z",
     "shell.execute_reply.started": "2021-06-30T10:24:27.774710Z"
    },
    "id": "ZE2NtJFWAypc",
    "outputId": "dcdf1b40-156a-4310-fd82-acc623151720",
    "papermill": {
     "duration": 0.112296,
     "end_time": "2021-06-30T10:42:03.065635",
     "exception": false,
     "start_time": "2021-06-30T10:42:02.953339",
     "status": "completed"
    },
    "tags": []
   },
   "outputs": [
    {
     "data": {
      "text/html": [
       "<div>\n",
       "<style scoped>\n",
       "    .dataframe tbody tr th:only-of-type {\n",
       "        vertical-align: middle;\n",
       "    }\n",
       "\n",
       "    .dataframe tbody tr th {\n",
       "        vertical-align: top;\n",
       "    }\n",
       "\n",
       "    .dataframe thead th {\n",
       "        text-align: right;\n",
       "    }\n",
       "</style>\n",
       "<table border=\"1\" class=\"dataframe\">\n",
       "  <thead>\n",
       "    <tr style=\"text-align: right;\">\n",
       "      <th></th>\n",
       "      <th>Id</th>\n",
       "      <th>Count</th>\n",
       "      <th>Gender</th>\n",
       "    </tr>\n",
       "  </thead>\n",
       "  <tbody>\n",
       "    <tr>\n",
       "      <th>count</th>\n",
       "      <td>299063.000000</td>\n",
       "      <td>299063.000000</td>\n",
       "      <td>299063.000000</td>\n",
       "    </tr>\n",
       "    <tr>\n",
       "      <th>mean</th>\n",
       "      <td>149531.000000</td>\n",
       "      <td>131.216017</td>\n",
       "      <td>0.584445</td>\n",
       "    </tr>\n",
       "    <tr>\n",
       "      <th>std</th>\n",
       "      <td>86332.196115</td>\n",
       "      <td>988.882238</td>\n",
       "      <td>0.492818</td>\n",
       "    </tr>\n",
       "    <tr>\n",
       "      <th>min</th>\n",
       "      <td>0.000000</td>\n",
       "      <td>5.000000</td>\n",
       "      <td>0.000000</td>\n",
       "    </tr>\n",
       "    <tr>\n",
       "      <th>25%</th>\n",
       "      <td>74765.500000</td>\n",
       "      <td>7.000000</td>\n",
       "      <td>0.000000</td>\n",
       "    </tr>\n",
       "    <tr>\n",
       "      <th>50%</th>\n",
       "      <td>149531.000000</td>\n",
       "      <td>13.000000</td>\n",
       "      <td>1.000000</td>\n",
       "    </tr>\n",
       "    <tr>\n",
       "      <th>75%</th>\n",
       "      <td>224296.500000</td>\n",
       "      <td>43.000000</td>\n",
       "      <td>1.000000</td>\n",
       "    </tr>\n",
       "    <tr>\n",
       "      <th>max</th>\n",
       "      <td>299062.000000</td>\n",
       "      <td>65302.000000</td>\n",
       "      <td>1.000000</td>\n",
       "    </tr>\n",
       "  </tbody>\n",
       "</table>\n",
       "</div>"
      ],
      "text/plain": [
       "                  Id          Count         Gender\n",
       "count  299063.000000  299063.000000  299063.000000\n",
       "mean   149531.000000     131.216017       0.584445\n",
       "std     86332.196115     988.882238       0.492818\n",
       "min         0.000000       5.000000       0.000000\n",
       "25%     74765.500000       7.000000       0.000000\n",
       "50%    149531.000000      13.000000       1.000000\n",
       "75%    224296.500000      43.000000       1.000000\n",
       "max    299062.000000   65302.000000       1.000000"
      ]
     },
     "execution_count": 7,
     "metadata": {},
     "output_type": "execute_result"
    }
   ],
   "source": [
    "train_data.describe()"
   ]
  },
  {
   "cell_type": "code",
   "execution_count": 8,
   "id": "ahead-destination",
   "metadata": {
    "execution": {
     "iopub.execute_input": "2021-06-30T10:42:03.144384Z",
     "iopub.status.busy": "2021-06-30T10:42:03.143218Z",
     "iopub.status.idle": "2021-06-30T10:42:03.146507Z",
     "shell.execute_reply": "2021-06-30T10:42:03.145924Z",
     "shell.execute_reply.started": "2021-06-30T10:24:27.846720Z"
    },
    "id": "7-TrhgMoAypd",
    "papermill": {
     "duration": 0.044583,
     "end_time": "2021-06-30T10:42:03.146699",
     "exception": false,
     "start_time": "2021-06-30T10:42:03.102116",
     "status": "completed"
    },
    "tags": []
   },
   "outputs": [],
   "source": [
    "r1,c1 = train_data.shape\n",
    "r2,c2 = test_data.shape"
   ]
  },
  {
   "cell_type": "code",
   "execution_count": 9,
   "id": "impressed-sellers",
   "metadata": {
    "execution": {
     "iopub.execute_input": "2021-06-30T10:42:03.223978Z",
     "iopub.status.busy": "2021-06-30T10:42:03.223176Z",
     "iopub.status.idle": "2021-06-30T10:42:03.228805Z",
     "shell.execute_reply": "2021-06-30T10:42:03.228189Z",
     "shell.execute_reply.started": "2021-06-30T10:24:27.853148Z"
    },
    "id": "jbWjUf1sAypd",
    "outputId": "ff75bb11-44d9-47d9-f4a0-60c5aae1c20e",
    "papermill": {
     "duration": 0.046469,
     "end_time": "2021-06-30T10:42:03.228987",
     "exception": false,
     "start_time": "2021-06-30T10:42:03.182518",
     "status": "completed"
    },
    "tags": []
   },
   "outputs": [
    {
     "name": "stdout",
     "output_type": "stream",
     "text": [
      "299063 5 99688 4\n"
     ]
    }
   ],
   "source": [
    "print(r1,c1,r2,c2)"
   ]
  },
  {
   "cell_type": "markdown",
   "id": "surrounded-wildlife",
   "metadata": {
    "id": "4WOtsvUKOkAR",
    "papermill": {
     "duration": 0.035894,
     "end_time": "2021-06-30T10:42:03.301072",
     "exception": false,
     "start_time": "2021-06-30T10:42:03.265178",
     "status": "completed"
    },
    "tags": []
   },
   "source": [
    "Adding new features to training and testing datasets"
   ]
  },
  {
   "cell_type": "code",
   "execution_count": 10,
   "id": "responsible-secondary",
   "metadata": {
    "execution": {
     "iopub.execute_input": "2021-06-30T10:42:03.395138Z",
     "iopub.status.busy": "2021-06-30T10:42:03.389863Z",
     "iopub.status.idle": "2021-06-30T10:42:44.755138Z",
     "shell.execute_reply": "2021-06-30T10:42:44.755704Z",
     "shell.execute_reply.started": "2021-06-30T10:24:27.871898Z"
    },
    "id": "XGe2yrZuAypd",
    "papermill": {
     "duration": 41.418913,
     "end_time": "2021-06-30T10:42:44.755913",
     "exception": false,
     "start_time": "2021-06-30T10:42:03.337000",
     "status": "completed"
    },
    "tags": []
   },
   "outputs": [],
   "source": [
    "#Adding length of the name as a new feature to the training data \n",
    "name_len=[]\n",
    "for i in range(0,r1):\n",
    "    name_len.append(len(train_data.iloc[i][1]))\n",
    "train_data['name_len'] = name_len"
   ]
  },
  {
   "cell_type": "code",
   "execution_count": 11,
   "id": "athletic-extension",
   "metadata": {
    "execution": {
     "iopub.execute_input": "2021-06-30T10:42:44.844386Z",
     "iopub.status.busy": "2021-06-30T10:42:44.843308Z",
     "iopub.status.idle": "2021-06-30T10:42:58.526809Z",
     "shell.execute_reply": "2021-06-30T10:42:58.527315Z",
     "shell.execute_reply.started": "2021-06-30T10:25:10.897686Z"
    },
    "id": "MOBLTmlmAype",
    "papermill": {
     "duration": 13.736037,
     "end_time": "2021-06-30T10:42:58.527511",
     "exception": false,
     "start_time": "2021-06-30T10:42:44.791474",
     "status": "completed"
    },
    "tags": []
   },
   "outputs": [],
   "source": [
    "#Adding length of the name as a new feature(name_len) to the testing data\n",
    "name_len=[]\n",
    "for i in range(0,r2):\n",
    "    name_len.append(len(test_data.iloc[i][1]))\n",
    "test_data['name_len'] = name_len"
   ]
  },
  {
   "cell_type": "code",
   "execution_count": 12,
   "id": "outer-letter",
   "metadata": {
    "execution": {
     "iopub.execute_input": "2021-06-30T10:42:58.633146Z",
     "iopub.status.busy": "2021-06-30T10:42:58.627936Z",
     "iopub.status.idle": "2021-06-30T10:43:43.245911Z",
     "shell.execute_reply": "2021-06-30T10:43:43.246712Z",
     "shell.execute_reply.started": "2021-06-30T10:25:24.846446Z"
    },
    "id": "grOEmWk2Aype",
    "papermill": {
     "duration": 44.68392,
     "end_time": "2021-06-30T10:43:43.246927",
     "exception": false,
     "start_time": "2021-06-30T10:42:58.563007",
     "status": "completed"
    },
    "tags": []
   },
   "outputs": [],
   "source": [
    "#Adding total number of vowels as a new feature(Vowel_count) to the training data\n",
    "vowel_count=[]\n",
    "vowels=['a','e','i','o','u','A','E','I','O','U']\n",
    "for i in range(0,r1):\n",
    "    c=0\n",
    "    for k in train_data.iloc[i][1]:\n",
    "        for j in vowels:\n",
    "            if(k == j):\n",
    "             c = c + 1\n",
    "    vowel_count.append(c)\n",
    "train_data['Vowel_count']= vowel_count"
   ]
  },
  {
   "cell_type": "code",
   "execution_count": 13,
   "id": "extraordinary-queens",
   "metadata": {
    "execution": {
     "iopub.execute_input": "2021-06-30T10:43:43.331165Z",
     "iopub.status.busy": "2021-06-30T10:43:43.330021Z",
     "iopub.status.idle": "2021-06-30T10:43:57.845751Z",
     "shell.execute_reply": "2021-06-30T10:43:57.845036Z",
     "shell.execute_reply.started": "2021-06-30T10:26:11.153290Z"
    },
    "id": "NPmY93JjAypf",
    "papermill": {
     "duration": 14.561691,
     "end_time": "2021-06-30T10:43:57.845959",
     "exception": false,
     "start_time": "2021-06-30T10:43:43.284268",
     "status": "completed"
    },
    "tags": []
   },
   "outputs": [],
   "source": [
    "#Adding total number of vowels as a new feature(Vowel_count) to the testing data\n",
    "vowel_count=[]\n",
    "vowels=['a','e','i','o','u','A','E','I','O','U']\n",
    "for i in range(0,r2):\n",
    "    c=0\n",
    "    for k in test_data.iloc[i][1]:\n",
    "        for j in vowels:\n",
    "            if(k == j):\n",
    "             c = c + 1\n",
    "    vowel_count.append(c)\n",
    "test_data['Vowel_count']= vowel_count"
   ]
  },
  {
   "cell_type": "code",
   "execution_count": 14,
   "id": "modern-slide",
   "metadata": {
    "execution": {
     "iopub.execute_input": "2021-06-30T10:43:57.960006Z",
     "iopub.status.busy": "2021-06-30T10:43:57.954920Z",
     "iopub.status.idle": "2021-06-30T10:44:41.383954Z",
     "shell.execute_reply": "2021-06-30T10:44:41.383308Z",
     "shell.execute_reply.started": "2021-06-30T10:26:26.427698Z"
    },
    "id": "jGc5DnVTAypf",
    "papermill": {
     "duration": 43.493419,
     "end_time": "2021-06-30T10:44:41.384153",
     "exception": false,
     "start_time": "2021-06-30T10:43:57.890734",
     "status": "completed"
    },
    "tags": []
   },
   "outputs": [],
   "source": [
    "#Adding Vowel_end feature to the training dataset i.e;Checking if each word ends with a vowel or not,if ends then Vowel_end value will be 1 else 0\n",
    "classif = []\n",
    "vowels=['a','e','i','o','u','A','E','I','O','U']\n",
    "for i in range(0,r1):\n",
    "    word = list( train_data.iloc[i][1])\n",
    "    if(word[-1] in vowels):\n",
    "        classif.append(0)\n",
    "    else:\n",
    "        classif.append(1)\n",
    "train_data['Vowel_end']= classif"
   ]
  },
  {
   "cell_type": "code",
   "execution_count": 15,
   "id": "instrumental-evanescence",
   "metadata": {
    "execution": {
     "iopub.execute_input": "2021-06-30T10:44:41.480828Z",
     "iopub.status.busy": "2021-06-30T10:44:41.475757Z",
     "iopub.status.idle": "2021-06-30T10:44:55.750056Z",
     "shell.execute_reply": "2021-06-30T10:44:55.749359Z",
     "shell.execute_reply.started": "2021-06-30T10:27:11.423646Z"
    },
    "id": "GJiAcumhAypf",
    "papermill": {
     "duration": 14.329741,
     "end_time": "2021-06-30T10:44:55.750233",
     "exception": false,
     "start_time": "2021-06-30T10:44:41.420492",
     "status": "completed"
    },
    "tags": []
   },
   "outputs": [],
   "source": [
    "#Adding Vowel_end feature to the testing dataset i.e;Checking if each word ends with a vowel or not,if ends then Vowel_end value will be 1 else 0\n",
    "classif = []\n",
    "vowels=['a','e','i','o','u','A','E','I','O','U']\n",
    "for i in range(0,r2):\n",
    "    word = list( test_data.iloc[i][1])\n",
    "    if(word[-1] in vowels):\n",
    "        classif.append(0)\n",
    "    else:\n",
    "        classif.append(1)\n",
    "test_data['Vowel_end'] = classif"
   ]
  },
  {
   "cell_type": "code",
   "execution_count": 16,
   "id": "responsible-compound",
   "metadata": {
    "execution": {
     "iopub.execute_input": "2021-06-30T10:44:55.857104Z",
     "iopub.status.busy": "2021-06-30T10:44:55.846666Z",
     "iopub.status.idle": "2021-06-30T10:45:39.708349Z",
     "shell.execute_reply": "2021-06-30T10:45:39.707462Z",
     "shell.execute_reply.started": "2021-06-30T10:27:25.941313Z"
    },
    "id": "hc5vsfadAypg",
    "papermill": {
     "duration": 43.922274,
     "end_time": "2021-06-30T10:45:39.708528",
     "exception": false,
     "start_time": "2021-06-30T10:44:55.786254",
     "status": "completed"
    },
    "tags": []
   },
   "outputs": [],
   "source": [
    "#Adding a word_sum as new feature to training dataset which represents each name in the dataset in the form of integer\n",
    "#i.e;Adding each ascii values of all characters in a name \n",
    "word_sum = []\n",
    "for i in range(0,r1):\n",
    "    s = 0\n",
    "    for j in train_data.iloc[i][1]:\n",
    "        s = s + ord(j)\n",
    "    word_sum.append(s)\n",
    "train_data[\"Word_sum\"] = word_sum"
   ]
  },
  {
   "cell_type": "code",
   "execution_count": 17,
   "id": "educational-necklace",
   "metadata": {
    "execution": {
     "iopub.execute_input": "2021-06-30T10:45:39.803253Z",
     "iopub.status.busy": "2021-06-30T10:45:39.797576Z",
     "iopub.status.idle": "2021-06-30T10:45:54.419461Z",
     "shell.execute_reply": "2021-06-30T10:45:54.419992Z",
     "shell.execute_reply.started": "2021-06-30T10:28:10.985860Z"
    },
    "id": "srku3VxrAypf",
    "papermill": {
     "duration": 14.674519,
     "end_time": "2021-06-30T10:45:54.420250",
     "exception": false,
     "start_time": "2021-06-30T10:45:39.745731",
     "status": "completed"
    },
    "tags": []
   },
   "outputs": [],
   "source": [
    "#Adding a word_sum as new feature to testing dataset which represents each name in a dataset in the form of integer\n",
    "#i.e;Adding ascii values of all characters in a name \n",
    "word_sum = []\n",
    "for i in range(0,r2):\n",
    "    s = 0\n",
    "    for j in test_data.iloc[i][1]:\n",
    "        s = s + ord(j)\n",
    "    word_sum.append(s)\n",
    "test_data[\"Word_sum\"] = word_sum"
   ]
  },
  {
   "cell_type": "code",
   "execution_count": 18,
   "id": "robust-sleep",
   "metadata": {
    "execution": {
     "iopub.execute_input": "2021-06-30T10:45:54.516170Z",
     "iopub.status.busy": "2021-06-30T10:45:54.515275Z",
     "iopub.status.idle": "2021-06-30T10:46:40.255709Z",
     "shell.execute_reply": "2021-06-30T10:46:40.255070Z",
     "shell.execute_reply.started": "2021-06-30T10:28:25.836232Z"
    },
    "id": "GthoipyzAypg",
    "papermill": {
     "duration": 45.798501,
     "end_time": "2021-06-30T10:46:40.255892",
     "exception": false,
     "start_time": "2021-06-30T10:45:54.457391",
     "status": "completed"
    },
    "tags": []
   },
   "outputs": [],
   "source": [
    "#Adding First_letter as a new feature in training dataset which takes ascii value of first letter in a name as it's value\n",
    "fl = []\n",
    "for i in range(0,r1):\n",
    "    j = list(train_data.iloc[i][1])\n",
    "    fl.append(ord(j[0]))\n",
    "train_data[\"First_letter\"] = fl"
   ]
  },
  {
   "cell_type": "code",
   "execution_count": 19,
   "id": "artificial-mexico",
   "metadata": {
    "execution": {
     "iopub.execute_input": "2021-06-30T10:46:40.343094Z",
     "iopub.status.busy": "2021-06-30T10:46:40.337592Z",
     "iopub.status.idle": "2021-06-30T10:46:56.246253Z",
     "shell.execute_reply": "2021-06-30T10:46:56.245427Z",
     "shell.execute_reply.started": "2021-06-30T10:29:11.843653Z"
    },
    "id": "FQdo8b_xAypg",
    "papermill": {
     "duration": 15.954849,
     "end_time": "2021-06-30T10:46:56.246825",
     "exception": false,
     "start_time": "2021-06-30T10:46:40.291976",
     "status": "completed"
    },
    "tags": []
   },
   "outputs": [],
   "source": [
    "#Adding First_letter as a new feature in testing dataset which takes ascii value of first letter in a name as it's value\n",
    "fl = []\n",
    "for i in range(0,r2):\n",
    "    j = list(test_data.iloc[i][1])\n",
    "    fl.append(ord(j[0]))\n",
    "test_data[\"First_letter\"] = fl"
   ]
  },
  {
   "cell_type": "code",
   "execution_count": 20,
   "id": "changed-crystal",
   "metadata": {
    "execution": {
     "iopub.execute_input": "2021-06-30T10:46:56.349342Z",
     "iopub.status.busy": "2021-06-30T10:46:56.342331Z",
     "iopub.status.idle": "2021-06-30T10:47:46.634868Z",
     "shell.execute_reply": "2021-06-30T10:47:46.633981Z",
     "shell.execute_reply.started": "2021-06-30T10:29:26.809751Z"
    },
    "id": "RsnZg7G8Ayph",
    "papermill": {
     "duration": 50.345191,
     "end_time": "2021-06-30T10:47:46.635232",
     "exception": false,
     "start_time": "2021-06-30T10:46:56.290041",
     "status": "completed"
    },
    "tags": []
   },
   "outputs": [],
   "source": [
    "#Adding Last_letter as a new feature in training dataset which takes ascii value of last letter in a name as it's value\n",
    "ll=[]\n",
    "for i in range(0,r1):\n",
    "    j = list(train_data.iloc[i][1])\n",
    "    ll.append(ord(j[-1]))\n",
    "train_data[\"Last_letter\"] = ll"
   ]
  },
  {
   "cell_type": "code",
   "execution_count": 21,
   "id": "disciplinary-mobility",
   "metadata": {
    "execution": {
     "iopub.execute_input": "2021-06-30T10:47:46.722568Z",
     "iopub.status.busy": "2021-06-30T10:47:46.717308Z",
     "iopub.status.idle": "2021-06-30T10:48:01.988502Z",
     "shell.execute_reply": "2021-06-30T10:48:01.989047Z",
     "shell.execute_reply.started": "2021-06-30T10:30:12.939150Z"
    },
    "id": "HbzpvIDuAypg",
    "papermill": {
     "duration": 15.317233,
     "end_time": "2021-06-30T10:48:01.989267",
     "exception": false,
     "start_time": "2021-06-30T10:47:46.672034",
     "status": "completed"
    },
    "tags": []
   },
   "outputs": [],
   "source": [
    "#Adding Last_letter as a new feature in testing dataset which takes ascii value of last letter in a name as it's value\n",
    "ll=[]\n",
    "for i in range(0,r2):\n",
    "    j = list(test_data.iloc[i][1])\n",
    "    ll.append(ord(j[-1]))\n",
    "test_data[\"Last_letter\"] = ll"
   ]
  },
  {
   "cell_type": "code",
   "execution_count": 22,
   "id": "wireless-oregon",
   "metadata": {
    "execution": {
     "iopub.execute_input": "2021-06-30T10:48:02.082745Z",
     "iopub.status.busy": "2021-06-30T10:48:02.077491Z",
     "iopub.status.idle": "2021-06-30T10:48:49.751667Z",
     "shell.execute_reply": "2021-06-30T10:48:49.752238Z",
     "shell.execute_reply.started": "2021-06-30T10:30:28.276353Z"
    },
    "id": "8I-RDSoVAyph",
    "papermill": {
     "duration": 47.726701,
     "end_time": "2021-06-30T10:48:49.752476",
     "exception": false,
     "start_time": "2021-06-30T10:48:02.025775",
     "status": "completed"
    },
    "tags": []
   },
   "outputs": [],
   "source": [
    "#Race in this dataset is the country to which a name belongs to,our dataset has only two types of races i.e;USA and India\n",
    "#Replacing Race column in training data with 0 and 1 which represents 0 if it's USA and 1 if India\n",
    "race=[]\n",
    "for i in range(0,r1):\n",
    "    if(train_data.iloc[i][3] == 'USA'):\n",
    "        race.append(0)\n",
    "    else:\n",
    "        race.append(1)\n",
    "train_data[\"Race\"] = race"
   ]
  },
  {
   "cell_type": "code",
   "execution_count": 23,
   "id": "controlled-alloy",
   "metadata": {
    "execution": {
     "iopub.execute_input": "2021-06-30T10:48:49.848793Z",
     "iopub.status.busy": "2021-06-30T10:48:49.843701Z",
     "iopub.status.idle": "2021-06-30T10:49:05.206985Z",
     "shell.execute_reply": "2021-06-30T10:49:05.206305Z",
     "shell.execute_reply.started": "2021-06-30T10:31:15.579339Z"
    },
    "id": "H1g7_7GJAyph",
    "papermill": {
     "duration": 15.412444,
     "end_time": "2021-06-30T10:49:05.207159",
     "exception": false,
     "start_time": "2021-06-30T10:48:49.794715",
     "status": "completed"
    },
    "tags": []
   },
   "outputs": [],
   "source": [
    "#Replacing Race column in testing data with 0 and 1 which represents 0 if it's USA and 1 if India\n",
    "race=[]\n",
    "for i in range(0,r2):\n",
    "    if(test_data.iloc[i][3] == 'USA'):\n",
    "        race.append(0)\n",
    "    else:\n",
    "        race.append(1)\n",
    "test_data[\"Race\"] = race"
   ]
  },
  {
   "cell_type": "code",
   "execution_count": 24,
   "id": "blind-polyester",
   "metadata": {
    "execution": {
     "iopub.execute_input": "2021-06-30T10:49:05.300923Z",
     "iopub.status.busy": "2021-06-30T10:49:05.295731Z",
     "iopub.status.idle": "2021-06-30T10:50:43.705124Z",
     "shell.execute_reply": "2021-06-30T10:50:43.705661Z",
     "shell.execute_reply.started": "2021-06-30T10:31:31.065364Z"
    },
    "id": "SQysxMm9Ayph",
    "papermill": {
     "duration": 98.461624,
     "end_time": "2021-06-30T10:50:43.705908",
     "exception": false,
     "start_time": "2021-06-30T10:49:05.244284",
     "status": "completed"
    },
    "tags": []
   },
   "outputs": [],
   "source": [
    "#Adding last_two_sum as a new feature in the training dataset which takes sum of ascii values of last two characters of a name\n",
    "lst2 = []\n",
    "for i in range(0,r1):\n",
    "    word = list( train_data.iloc[i][1])\n",
    "    lst2.append(word[-2:])\n",
    "train_data['last_two'] = lst2\n",
    "lst_sum1=[]\n",
    "for i in range(0,r1):\n",
    "    c=0\n",
    "    for j in train_data.iloc[i][11]:\n",
    "        c=c+ord(j)\n",
    "    lst_sum1.append(c)\n",
    "train_data['last_two_sum'] = lst_sum1"
   ]
  },
  {
   "cell_type": "code",
   "execution_count": 25,
   "id": "competent-developer",
   "metadata": {
    "execution": {
     "iopub.execute_input": "2021-06-30T10:50:43.831071Z",
     "iopub.status.busy": "2021-06-30T10:50:43.810258Z",
     "iopub.status.idle": "2021-06-30T10:51:15.735638Z",
     "shell.execute_reply": "2021-06-30T10:51:15.734812Z",
     "shell.execute_reply.started": "2021-06-30T10:33:08.026152Z"
    },
    "id": "Zni3QxsnAyph",
    "papermill": {
     "duration": 31.993318,
     "end_time": "2021-06-30T10:51:15.735816",
     "exception": false,
     "start_time": "2021-06-30T10:50:43.742498",
     "status": "completed"
    },
    "tags": []
   },
   "outputs": [],
   "source": [
    "#Adding last_two_sum as a new feature in the testing dataset which takes sum of ascii values of last two characters of a name\n",
    "lst2 = []\n",
    "for i in range(0,r2):\n",
    "    word = list( test_data.iloc[i][1])\n",
    "    lst2.append(word[-2:])\n",
    "test_data['last_two'] = lst2\n",
    "lst_sum1=[]\n",
    "for i in range(0,r2):\n",
    "    c=0\n",
    "    for j in test_data.iloc[i][10]:\n",
    "        c=c+ord(j)\n",
    "    lst_sum1.append(c)\n",
    "test_data['last_two_sum'] = lst_sum1"
   ]
  },
  {
   "cell_type": "code",
   "execution_count": 26,
   "id": "interpreted-allergy",
   "metadata": {
    "execution": {
     "iopub.execute_input": "2021-06-30T10:51:15.855330Z",
     "iopub.status.busy": "2021-06-30T10:51:15.839551Z",
     "iopub.status.idle": "2021-06-30T10:53:42.892244Z",
     "shell.execute_reply": "2021-06-30T10:53:42.892891Z",
     "shell.execute_reply.started": "2021-06-30T10:33:40.515180Z"
    },
    "id": "d1Q8AeQOAyph",
    "papermill": {
     "duration": 147.120926,
     "end_time": "2021-06-30T10:53:42.893129",
     "exception": false,
     "start_time": "2021-06-30T10:51:15.772203",
     "status": "completed"
    },
    "tags": []
   },
   "outputs": [],
   "source": [
    "#Adding last_three_sum as a new feature in the training dataset which takes sum of ascii values of last three characters of a name \n",
    "lst2 = []\n",
    "for i in range(0,r1):\n",
    "    if(len(train_data.iloc[i][1]) > 3):\n",
    "        word = list( train_data.iloc[i][1])\n",
    "        lst2.append(word[-3:])\n",
    "    else:\n",
    "        word = list( train_data.iloc[i][1])\n",
    "        lst2.append(word[-2:])\n",
    "train_data['last_three'] = lst2\n",
    "lst_sum1=[]\n",
    "for i in range(0,r1):\n",
    "    c=0\n",
    "    for j in train_data.iloc[i][13]:\n",
    "        c=c+ord(j)\n",
    "    lst_sum1.append(c)\n",
    "train_data['last_three_sum'] = lst_sum1"
   ]
  },
  {
   "cell_type": "code",
   "execution_count": 27,
   "id": "romantic-creator",
   "metadata": {
    "execution": {
     "iopub.execute_input": "2021-06-30T10:53:43.020262Z",
     "iopub.status.busy": "2021-06-30T10:53:43.014737Z",
     "iopub.status.idle": "2021-06-30T10:54:30.852181Z",
     "shell.execute_reply": "2021-06-30T10:54:30.851579Z",
     "shell.execute_reply.started": "2021-06-30T10:36:07.716958Z"
    },
    "id": "yHTpStshAypi",
    "papermill": {
     "duration": 47.922392,
     "end_time": "2021-06-30T10:54:30.852354",
     "exception": false,
     "start_time": "2021-06-30T10:53:42.929962",
     "status": "completed"
    },
    "tags": []
   },
   "outputs": [],
   "source": [
    "#Adding last_three_sum as a new feature in the testing dataset which takes sum of ascii values of last three characters of a name \n",
    "lst2 = []\n",
    "for i in range(0,r2):\n",
    "    if(len(test_data.iloc[i][1]) > 3):\n",
    "        word = list( test_data.iloc[i][1])\n",
    "        lst2.append(word[-3:])\n",
    "    else:\n",
    "        word = list( test_data.iloc[i][1])\n",
    "        lst2.append(word[-2:])\n",
    "test_data['last_three'] = lst2\n",
    "lst_sum1=[]\n",
    "for i in range(0,r2):\n",
    "    c=0\n",
    "    for j in test_data.iloc[i][12]:\n",
    "        c=c+ord(j)\n",
    "    lst_sum1.append(c)\n",
    "test_data['last_three_sum'] = lst_sum1"
   ]
  },
  {
   "cell_type": "code",
   "execution_count": 28,
   "id": "popular-translator",
   "metadata": {
    "execution": {
     "iopub.execute_input": "2021-06-30T10:54:30.943612Z",
     "iopub.status.busy": "2021-06-30T10:54:30.938563Z",
     "iopub.status.idle": "2021-06-30T10:55:21.576774Z",
     "shell.execute_reply": "2021-06-30T10:55:21.577554Z",
     "shell.execute_reply.started": "2021-06-30T10:36:57.379798Z"
    },
    "id": "ycbcEbvKAypj",
    "papermill": {
     "duration": 50.689416,
     "end_time": "2021-06-30T10:55:21.577805",
     "exception": false,
     "start_time": "2021-06-30T10:54:30.888389",
     "status": "completed"
    },
    "tags": []
   },
   "outputs": [],
   "source": [
    "#Adding First_last as a new feature in the training dataset which takes sum of ascii values of first and last character of a name \n",
    "ll=[]\n",
    "for i in range(0,r1):\n",
    "    j = list(train_data.iloc[i][1])\n",
    "    ll.append(ord(j[-1]) + ord(j[0]))\n",
    "train_data[\"First_last\"] = ll"
   ]
  },
  {
   "cell_type": "code",
   "execution_count": 29,
   "id": "drawn-designation",
   "metadata": {
    "execution": {
     "iopub.execute_input": "2021-06-30T10:55:21.656164Z",
     "iopub.status.busy": "2021-06-30T10:55:21.655099Z",
     "iopub.status.idle": "2021-06-30T10:55:38.069285Z",
     "shell.execute_reply": "2021-06-30T10:55:38.068366Z",
     "shell.execute_reply.started": "2021-06-30T10:37:48.279270Z"
    },
    "id": "jLbNbBaHAypk",
    "papermill": {
     "duration": 16.454714,
     "end_time": "2021-06-30T10:55:38.069480",
     "exception": false,
     "start_time": "2021-06-30T10:55:21.614766",
     "status": "completed"
    },
    "tags": []
   },
   "outputs": [],
   "source": [
    "#Adding First_last as a new feature in the testing dataset which takes sum of ascii values of first and last character of a name \n",
    "ll=[]\n",
    "for i in range(0,r2):\n",
    "    j = list(test_data.iloc[i][1])\n",
    "    ll.append(ord(j[-1]) + ord(j[0]))\n",
    "test_data[\"First_last\"] = ll"
   ]
  },
  {
   "cell_type": "code",
   "execution_count": 30,
   "id": "interim-navigator",
   "metadata": {
    "execution": {
     "iopub.execute_input": "2021-06-30T10:55:38.190352Z",
     "iopub.status.busy": "2021-06-30T10:55:38.164152Z",
     "iopub.status.idle": "2021-06-30T10:56:28.432154Z",
     "shell.execute_reply": "2021-06-30T10:56:28.431495Z",
     "shell.execute_reply.started": "2021-06-30T10:38:05.173918Z"
    },
    "id": "VLizmr0BsiYT",
    "papermill": {
     "duration": 50.325225,
     "end_time": "2021-06-30T10:56:28.432338",
     "exception": false,
     "start_time": "2021-06-30T10:55:38.107113",
     "status": "completed"
    },
    "tags": []
   },
   "outputs": [],
   "source": [
    "#Adding Unique_letter as a new feature in the training dataset which finds number of unique characters of a name\n",
    "uni=[]\n",
    "for i in range(0,r1):\n",
    "    j = list(train_data.iloc[i][1])\n",
    "    j = set(j)\n",
    "    uni.append(len(j))\n",
    "train_data[\"Unique_letter\"] = uni "
   ]
  },
  {
   "cell_type": "code",
   "execution_count": 31,
   "id": "hawaiian-mexican",
   "metadata": {
    "execution": {
     "iopub.execute_input": "2021-06-30T10:56:28.541035Z",
     "iopub.status.busy": "2021-06-30T10:56:28.535815Z",
     "iopub.status.idle": "2021-06-30T10:57:21.245884Z",
     "shell.execute_reply": "2021-06-30T10:57:21.246436Z",
     "shell.execute_reply.started": "2021-06-30T10:38:56.819963Z"
    },
    "id": "1ZA0_rOltyz1",
    "papermill": {
     "duration": 52.776819,
     "end_time": "2021-06-30T10:57:21.246665",
     "exception": false,
     "start_time": "2021-06-30T10:56:28.469846",
     "status": "completed"
    },
    "tags": []
   },
   "outputs": [],
   "source": [
    "#Adding Unique_letter_sum as a new feature in the training dataset which takes sum of ascii values of unique characters of a name\n",
    "uni=[]\n",
    "for i in range(0,r1):\n",
    "    j = list(train_data.iloc[i][1])\n",
    "    j = set(j)\n",
    "    s = 0\n",
    "    for k in j:\n",
    "        s = s + ord(k)\n",
    "    uni.append(s) \n",
    "train_data[\"Unique_letter_sum\"] = uni "
   ]
  },
  {
   "cell_type": "code",
   "execution_count": 32,
   "id": "acquired-shaft",
   "metadata": {
    "execution": {
     "iopub.execute_input": "2021-06-30T10:57:21.325327Z",
     "iopub.status.busy": "2021-06-30T10:57:21.324228Z",
     "iopub.status.idle": "2021-06-30T10:57:38.140821Z",
     "shell.execute_reply": "2021-06-30T10:57:38.140005Z",
     "shell.execute_reply.started": "2021-06-30T10:39:49.892620Z"
    },
    "id": "fHoIM0wPso9f",
    "papermill": {
     "duration": 16.85765,
     "end_time": "2021-06-30T10:57:38.141030",
     "exception": false,
     "start_time": "2021-06-30T10:57:21.283380",
     "status": "completed"
    },
    "tags": []
   },
   "outputs": [],
   "source": [
    "#Adding Unique_letter as a new feature in the testing dataset which finds number of unique characters of a name\n",
    "uni=[]\n",
    "for i in range(0,r2):\n",
    "    j = list(test_data.iloc[i][1])\n",
    "    j = set(j)\n",
    "    uni.append(len(j))\n",
    "test_data[\"Unique_letter\"] = uni "
   ]
  },
  {
   "cell_type": "code",
   "execution_count": 33,
   "id": "promising-apache",
   "metadata": {
    "execution": {
     "iopub.execute_input": "2021-06-30T10:57:38.234875Z",
     "iopub.status.busy": "2021-06-30T10:57:38.229355Z",
     "iopub.status.idle": "2021-06-30T10:57:55.727333Z",
     "shell.execute_reply": "2021-06-30T10:57:55.726736Z",
     "shell.execute_reply.started": "2021-06-30T10:40:07.308034Z"
    },
    "id": "_3dp14mAxrZ3",
    "papermill": {
     "duration": 17.548434,
     "end_time": "2021-06-30T10:57:55.727519",
     "exception": false,
     "start_time": "2021-06-30T10:57:38.179085",
     "status": "completed"
    },
    "tags": []
   },
   "outputs": [],
   "source": [
    "#Adding Unique_letter_sum as a new feature in the training dataset which takes sum of ascii values of unique characters of a name\n",
    "uni=[]\n",
    "for i in range(0,r2):\n",
    "    j = list(test_data.iloc[i][1])\n",
    "    j = set(j)\n",
    "    s = 0\n",
    "    for k in j:\n",
    "        s = s + ord(k)\n",
    "    uni.append(s) \n",
    "test_data[\"Unique_letter_sum\"] = uni "
   ]
  },
  {
   "cell_type": "code",
   "execution_count": 34,
   "id": "marked-porter",
   "metadata": {
    "execution": {
     "iopub.execute_input": "2021-06-30T10:57:55.832915Z",
     "iopub.status.busy": "2021-06-30T10:57:55.823231Z",
     "iopub.status.idle": "2021-06-30T10:57:55.836699Z",
     "shell.execute_reply": "2021-06-30T10:57:55.837324Z",
     "shell.execute_reply.started": "2021-06-30T10:40:24.466647Z"
    },
    "id": "FruVC3XsAypl",
    "outputId": "8fc1830a-6144-4d5e-c4ac-64768efeca72",
    "papermill": {
     "duration": 0.073375,
     "end_time": "2021-06-30T10:57:55.837523",
     "exception": false,
     "start_time": "2021-06-30T10:57:55.764148",
     "status": "completed"
    },
    "tags": []
   },
   "outputs": [
    {
     "data": {
      "text/html": [
       "<div>\n",
       "<style scoped>\n",
       "    .dataframe tbody tr th:only-of-type {\n",
       "        vertical-align: middle;\n",
       "    }\n",
       "\n",
       "    .dataframe tbody tr th {\n",
       "        vertical-align: top;\n",
       "    }\n",
       "\n",
       "    .dataframe thead th {\n",
       "        text-align: right;\n",
       "    }\n",
       "</style>\n",
       "<table border=\"1\" class=\"dataframe\">\n",
       "  <thead>\n",
       "    <tr style=\"text-align: right;\">\n",
       "      <th></th>\n",
       "      <th>Id</th>\n",
       "      <th>Name</th>\n",
       "      <th>Count</th>\n",
       "      <th>Race</th>\n",
       "      <th>name_len</th>\n",
       "      <th>Vowel_count</th>\n",
       "      <th>Vowel_end</th>\n",
       "      <th>Word_sum</th>\n",
       "      <th>First_letter</th>\n",
       "      <th>Last_letter</th>\n",
       "      <th>last_two</th>\n",
       "      <th>last_two_sum</th>\n",
       "      <th>last_three</th>\n",
       "      <th>last_three_sum</th>\n",
       "      <th>First_last</th>\n",
       "      <th>Unique_letter</th>\n",
       "      <th>Unique_letter_sum</th>\n",
       "    </tr>\n",
       "  </thead>\n",
       "  <tbody>\n",
       "    <tr>\n",
       "      <th>0</th>\n",
       "      <td>299064</td>\n",
       "      <td>Aundria</td>\n",
       "      <td>8.0</td>\n",
       "      <td>0</td>\n",
       "      <td>7</td>\n",
       "      <td>4</td>\n",
       "      <td>0</td>\n",
       "      <td>708</td>\n",
       "      <td>65</td>\n",
       "      <td>97</td>\n",
       "      <td>[i, a]</td>\n",
       "      <td>202</td>\n",
       "      <td>[r, i, a]</td>\n",
       "      <td>316</td>\n",
       "      <td>162</td>\n",
       "      <td>7</td>\n",
       "      <td>708</td>\n",
       "    </tr>\n",
       "    <tr>\n",
       "      <th>1</th>\n",
       "      <td>299065</td>\n",
       "      <td>Traviss</td>\n",
       "      <td>5.0</td>\n",
       "      <td>0</td>\n",
       "      <td>7</td>\n",
       "      <td>2</td>\n",
       "      <td>1</td>\n",
       "      <td>748</td>\n",
       "      <td>84</td>\n",
       "      <td>115</td>\n",
       "      <td>[s, s]</td>\n",
       "      <td>230</td>\n",
       "      <td>[i, s, s]</td>\n",
       "      <td>335</td>\n",
       "      <td>199</td>\n",
       "      <td>6</td>\n",
       "      <td>633</td>\n",
       "    </tr>\n",
       "    <tr>\n",
       "      <th>2</th>\n",
       "      <td>299066</td>\n",
       "      <td>Daleon</td>\n",
       "      <td>8.0</td>\n",
       "      <td>0</td>\n",
       "      <td>6</td>\n",
       "      <td>3</td>\n",
       "      <td>1</td>\n",
       "      <td>595</td>\n",
       "      <td>68</td>\n",
       "      <td>110</td>\n",
       "      <td>[o, n]</td>\n",
       "      <td>221</td>\n",
       "      <td>[e, o, n]</td>\n",
       "      <td>322</td>\n",
       "      <td>178</td>\n",
       "      <td>6</td>\n",
       "      <td>595</td>\n",
       "    </tr>\n",
       "    <tr>\n",
       "      <th>3</th>\n",
       "      <td>299067</td>\n",
       "      <td>Porchia</td>\n",
       "      <td>48.0</td>\n",
       "      <td>0</td>\n",
       "      <td>7</td>\n",
       "      <td>3</td>\n",
       "      <td>0</td>\n",
       "      <td>710</td>\n",
       "      <td>80</td>\n",
       "      <td>97</td>\n",
       "      <td>[i, a]</td>\n",
       "      <td>202</td>\n",
       "      <td>[h, i, a]</td>\n",
       "      <td>306</td>\n",
       "      <td>177</td>\n",
       "      <td>7</td>\n",
       "      <td>710</td>\n",
       "    </tr>\n",
       "    <tr>\n",
       "      <th>4</th>\n",
       "      <td>299068</td>\n",
       "      <td>Josealfredo</td>\n",
       "      <td>7.0</td>\n",
       "      <td>0</td>\n",
       "      <td>11</td>\n",
       "      <td>5</td>\n",
       "      <td>0</td>\n",
       "      <td>1134</td>\n",
       "      <td>74</td>\n",
       "      <td>111</td>\n",
       "      <td>[d, o]</td>\n",
       "      <td>211</td>\n",
       "      <td>[e, d, o]</td>\n",
       "      <td>312</td>\n",
       "      <td>185</td>\n",
       "      <td>9</td>\n",
       "      <td>922</td>\n",
       "    </tr>\n",
       "  </tbody>\n",
       "</table>\n",
       "</div>"
      ],
      "text/plain": [
       "       Id         Name  Count  Race  name_len  Vowel_count  Vowel_end  \\\n",
       "0  299064      Aundria    8.0     0         7            4          0   \n",
       "1  299065      Traviss    5.0     0         7            2          1   \n",
       "2  299066       Daleon    8.0     0         6            3          1   \n",
       "3  299067      Porchia   48.0     0         7            3          0   \n",
       "4  299068  Josealfredo    7.0     0        11            5          0   \n",
       "\n",
       "   Word_sum  First_letter  Last_letter last_two  last_two_sum last_three  \\\n",
       "0       708            65           97   [i, a]           202  [r, i, a]   \n",
       "1       748            84          115   [s, s]           230  [i, s, s]   \n",
       "2       595            68          110   [o, n]           221  [e, o, n]   \n",
       "3       710            80           97   [i, a]           202  [h, i, a]   \n",
       "4      1134            74          111   [d, o]           211  [e, d, o]   \n",
       "\n",
       "   last_three_sum  First_last  Unique_letter  Unique_letter_sum  \n",
       "0             316         162              7                708  \n",
       "1             335         199              6                633  \n",
       "2             322         178              6                595  \n",
       "3             306         177              7                710  \n",
       "4             312         185              9                922  "
      ]
     },
     "execution_count": 34,
     "metadata": {},
     "output_type": "execute_result"
    }
   ],
   "source": [
    "test_data.head()"
   ]
  },
  {
   "cell_type": "code",
   "execution_count": 35,
   "id": "angry-experience",
   "metadata": {
    "execution": {
     "iopub.execute_input": "2021-06-30T10:57:55.916543Z",
     "iopub.status.busy": "2021-06-30T10:57:55.915503Z",
     "iopub.status.idle": "2021-06-30T10:57:55.943856Z",
     "shell.execute_reply": "2021-06-30T10:57:55.943216Z",
     "shell.execute_reply.started": "2021-06-30T10:40:24.493457Z"
    },
    "id": "4Ec091IbKjop",
    "outputId": "3a354265-6ac4-4ea3-913e-42a71600aa38",
    "papermill": {
     "duration": 0.06954,
     "end_time": "2021-06-30T10:57:55.944039",
     "exception": false,
     "start_time": "2021-06-30T10:57:55.874499",
     "status": "completed"
    },
    "tags": []
   },
   "outputs": [
    {
     "data": {
      "text/html": [
       "<div>\n",
       "<style scoped>\n",
       "    .dataframe tbody tr th:only-of-type {\n",
       "        vertical-align: middle;\n",
       "    }\n",
       "\n",
       "    .dataframe tbody tr th {\n",
       "        vertical-align: top;\n",
       "    }\n",
       "\n",
       "    .dataframe thead th {\n",
       "        text-align: right;\n",
       "    }\n",
       "</style>\n",
       "<table border=\"1\" class=\"dataframe\">\n",
       "  <thead>\n",
       "    <tr style=\"text-align: right;\">\n",
       "      <th></th>\n",
       "      <th>Id</th>\n",
       "      <th>Name</th>\n",
       "      <th>Count</th>\n",
       "      <th>Race</th>\n",
       "      <th>Gender</th>\n",
       "      <th>name_len</th>\n",
       "      <th>Vowel_count</th>\n",
       "      <th>Vowel_end</th>\n",
       "      <th>Word_sum</th>\n",
       "      <th>First_letter</th>\n",
       "      <th>Last_letter</th>\n",
       "      <th>last_two</th>\n",
       "      <th>last_two_sum</th>\n",
       "      <th>last_three</th>\n",
       "      <th>last_three_sum</th>\n",
       "      <th>First_last</th>\n",
       "      <th>Unique_letter</th>\n",
       "      <th>Unique_letter_sum</th>\n",
       "    </tr>\n",
       "  </thead>\n",
       "  <tbody>\n",
       "    <tr>\n",
       "      <th>0</th>\n",
       "      <td>0</td>\n",
       "      <td>Jayton</td>\n",
       "      <td>8.0</td>\n",
       "      <td>0</td>\n",
       "      <td>0</td>\n",
       "      <td>6</td>\n",
       "      <td>2</td>\n",
       "      <td>1</td>\n",
       "      <td>629</td>\n",
       "      <td>74</td>\n",
       "      <td>110</td>\n",
       "      <td>[o, n]</td>\n",
       "      <td>221</td>\n",
       "      <td>[t, o, n]</td>\n",
       "      <td>337</td>\n",
       "      <td>184</td>\n",
       "      <td>6</td>\n",
       "      <td>629</td>\n",
       "    </tr>\n",
       "    <tr>\n",
       "      <th>1</th>\n",
       "      <td>1</td>\n",
       "      <td>Jorgen</td>\n",
       "      <td>13.0</td>\n",
       "      <td>0</td>\n",
       "      <td>0</td>\n",
       "      <td>6</td>\n",
       "      <td>2</td>\n",
       "      <td>1</td>\n",
       "      <td>613</td>\n",
       "      <td>74</td>\n",
       "      <td>110</td>\n",
       "      <td>[e, n]</td>\n",
       "      <td>211</td>\n",
       "      <td>[g, e, n]</td>\n",
       "      <td>314</td>\n",
       "      <td>184</td>\n",
       "      <td>6</td>\n",
       "      <td>613</td>\n",
       "    </tr>\n",
       "    <tr>\n",
       "      <th>2</th>\n",
       "      <td>2</td>\n",
       "      <td>Sahir</td>\n",
       "      <td>20.0</td>\n",
       "      <td>0</td>\n",
       "      <td>0</td>\n",
       "      <td>5</td>\n",
       "      <td>2</td>\n",
       "      <td>1</td>\n",
       "      <td>503</td>\n",
       "      <td>83</td>\n",
       "      <td>114</td>\n",
       "      <td>[i, r]</td>\n",
       "      <td>219</td>\n",
       "      <td>[h, i, r]</td>\n",
       "      <td>323</td>\n",
       "      <td>197</td>\n",
       "      <td>5</td>\n",
       "      <td>503</td>\n",
       "    </tr>\n",
       "    <tr>\n",
       "      <th>3</th>\n",
       "      <td>3</td>\n",
       "      <td>Jenneffer</td>\n",
       "      <td>5.0</td>\n",
       "      <td>0</td>\n",
       "      <td>1</td>\n",
       "      <td>9</td>\n",
       "      <td>3</td>\n",
       "      <td>1</td>\n",
       "      <td>915</td>\n",
       "      <td>74</td>\n",
       "      <td>114</td>\n",
       "      <td>[e, r]</td>\n",
       "      <td>215</td>\n",
       "      <td>[f, e, r]</td>\n",
       "      <td>317</td>\n",
       "      <td>188</td>\n",
       "      <td>5</td>\n",
       "      <td>501</td>\n",
       "    </tr>\n",
       "    <tr>\n",
       "      <th>4</th>\n",
       "      <td>4</td>\n",
       "      <td>Maceo</td>\n",
       "      <td>32.0</td>\n",
       "      <td>0</td>\n",
       "      <td>0</td>\n",
       "      <td>5</td>\n",
       "      <td>3</td>\n",
       "      <td>0</td>\n",
       "      <td>485</td>\n",
       "      <td>77</td>\n",
       "      <td>111</td>\n",
       "      <td>[e, o]</td>\n",
       "      <td>212</td>\n",
       "      <td>[c, e, o]</td>\n",
       "      <td>311</td>\n",
       "      <td>188</td>\n",
       "      <td>5</td>\n",
       "      <td>485</td>\n",
       "    </tr>\n",
       "  </tbody>\n",
       "</table>\n",
       "</div>"
      ],
      "text/plain": [
       "   Id       Name  Count  Race  Gender  name_len  Vowel_count  Vowel_end  \\\n",
       "0   0     Jayton    8.0     0       0         6            2          1   \n",
       "1   1     Jorgen   13.0     0       0         6            2          1   \n",
       "2   2      Sahir   20.0     0       0         5            2          1   \n",
       "3   3  Jenneffer    5.0     0       1         9            3          1   \n",
       "4   4      Maceo   32.0     0       0         5            3          0   \n",
       "\n",
       "   Word_sum  First_letter  Last_letter last_two  last_two_sum last_three  \\\n",
       "0       629            74          110   [o, n]           221  [t, o, n]   \n",
       "1       613            74          110   [e, n]           211  [g, e, n]   \n",
       "2       503            83          114   [i, r]           219  [h, i, r]   \n",
       "3       915            74          114   [e, r]           215  [f, e, r]   \n",
       "4       485            77          111   [e, o]           212  [c, e, o]   \n",
       "\n",
       "   last_three_sum  First_last  Unique_letter  Unique_letter_sum  \n",
       "0             337         184              6                629  \n",
       "1             314         184              6                613  \n",
       "2             323         197              5                503  \n",
       "3             317         188              5                501  \n",
       "4             311         188              5                485  "
      ]
     },
     "execution_count": 35,
     "metadata": {},
     "output_type": "execute_result"
    }
   ],
   "source": [
    "train_data.head()"
   ]
  },
  {
   "cell_type": "code",
   "execution_count": 36,
   "id": "federal-idaho",
   "metadata": {
    "execution": {
     "iopub.execute_input": "2021-06-30T10:57:56.040455Z",
     "iopub.status.busy": "2021-06-30T10:57:56.039412Z",
     "iopub.status.idle": "2021-06-30T10:57:56.086077Z",
     "shell.execute_reply": "2021-06-30T10:57:56.086630Z",
     "shell.execute_reply.started": "2021-06-30T10:40:24.524062Z"
    },
    "id": "2zxFwrFXAypl",
    "outputId": "24748d31-6713-4b75-fef4-2112504d97cf",
    "papermill": {
     "duration": 0.104041,
     "end_time": "2021-06-30T10:57:56.086847",
     "exception": false,
     "start_time": "2021-06-30T10:57:55.982806",
     "status": "completed"
    },
    "tags": []
   },
   "outputs": [
    {
     "name": "stdout",
     "output_type": "stream",
     "text": [
      "<class 'pandas.core.frame.DataFrame'>\n",
      "RangeIndex: 99688 entries, 0 to 99687\n",
      "Data columns (total 17 columns):\n",
      " #   Column             Non-Null Count  Dtype  \n",
      "---  ------             --------------  -----  \n",
      " 0   Id                 99688 non-null  int64  \n",
      " 1   Name               99688 non-null  object \n",
      " 2   Count              99688 non-null  float64\n",
      " 3   Race               99688 non-null  int64  \n",
      " 4   name_len           99688 non-null  int64  \n",
      " 5   Vowel_count        99688 non-null  int64  \n",
      " 6   Vowel_end          99688 non-null  int64  \n",
      " 7   Word_sum           99688 non-null  int64  \n",
      " 8   First_letter       99688 non-null  int64  \n",
      " 9   Last_letter        99688 non-null  int64  \n",
      " 10  last_two           99688 non-null  object \n",
      " 11  last_two_sum       99688 non-null  int64  \n",
      " 12  last_three         99688 non-null  object \n",
      " 13  last_three_sum     99688 non-null  int64  \n",
      " 14  First_last         99688 non-null  int64  \n",
      " 15  Unique_letter      99688 non-null  int64  \n",
      " 16  Unique_letter_sum  99688 non-null  int64  \n",
      "dtypes: float64(1), int64(13), object(3)\n",
      "memory usage: 12.9+ MB\n"
     ]
    }
   ],
   "source": [
    "test_data.info()"
   ]
  },
  {
   "cell_type": "code",
   "execution_count": 37,
   "id": "skilled-finance",
   "metadata": {
    "execution": {
     "iopub.execute_input": "2021-06-30T10:57:56.173310Z",
     "iopub.status.busy": "2021-06-30T10:57:56.172590Z",
     "iopub.status.idle": "2021-06-30T10:57:56.298953Z",
     "shell.execute_reply": "2021-06-30T10:57:56.298257Z",
     "shell.execute_reply.started": "2021-06-30T10:40:24.603234Z"
    },
    "id": "2kskYeMlyBOY",
    "outputId": "9f5519c1-975d-40f9-84fe-839481023af9",
    "papermill": {
     "duration": 0.170527,
     "end_time": "2021-06-30T10:57:56.299122",
     "exception": false,
     "start_time": "2021-06-30T10:57:56.128595",
     "status": "completed"
    },
    "tags": []
   },
   "outputs": [
    {
     "name": "stdout",
     "output_type": "stream",
     "text": [
      "<class 'pandas.core.frame.DataFrame'>\n",
      "RangeIndex: 299063 entries, 0 to 299062\n",
      "Data columns (total 18 columns):\n",
      " #   Column             Non-Null Count   Dtype  \n",
      "---  ------             --------------   -----  \n",
      " 0   Id                 299063 non-null  int64  \n",
      " 1   Name               299063 non-null  object \n",
      " 2   Count              299063 non-null  float64\n",
      " 3   Race               299063 non-null  int64  \n",
      " 4   Gender             299063 non-null  int64  \n",
      " 5   name_len           299063 non-null  int64  \n",
      " 6   Vowel_count        299063 non-null  int64  \n",
      " 7   Vowel_end          299063 non-null  int64  \n",
      " 8   Word_sum           299063 non-null  int64  \n",
      " 9   First_letter       299063 non-null  int64  \n",
      " 10  Last_letter        299063 non-null  int64  \n",
      " 11  last_two           299063 non-null  object \n",
      " 12  last_two_sum       299063 non-null  int64  \n",
      " 13  last_three         299063 non-null  object \n",
      " 14  last_three_sum     299063 non-null  int64  \n",
      " 15  First_last         299063 non-null  int64  \n",
      " 16  Unique_letter      299063 non-null  int64  \n",
      " 17  Unique_letter_sum  299063 non-null  int64  \n",
      "dtypes: float64(1), int64(14), object(3)\n",
      "memory usage: 41.1+ MB\n"
     ]
    }
   ],
   "source": [
    "train_data.info()"
   ]
  },
  {
   "cell_type": "code",
   "execution_count": 38,
   "id": "drawn-addition",
   "metadata": {
    "execution": {
     "iopub.execute_input": "2021-06-30T10:57:56.387191Z",
     "iopub.status.busy": "2021-06-30T10:57:56.386193Z",
     "iopub.status.idle": "2021-06-30T10:58:17.730873Z",
     "shell.execute_reply": "2021-06-30T10:58:17.731450Z",
     "shell.execute_reply.started": "2021-06-30T10:40:24.729337Z"
    },
    "id": "NcNgn4wrAypl",
    "papermill": {
     "duration": 21.392487,
     "end_time": "2021-06-30T10:58:17.731690",
     "exception": false,
     "start_time": "2021-06-30T10:57:56.339203",
     "status": "completed"
    },
    "tags": []
   },
   "outputs": [],
   "source": [
    "# Import train_test_split function\n",
    "from sklearn.model_selection import train_test_split\n",
    "# Split dataset into features and labels\n",
    "X=train_data[[\"name_len\",\"Word_sum\",\"Count\",\"First_letter\",\"Last_letter\",\"Vowel_count\",\"Vowel_end\",\"Race\",\"last_two_sum\",\"last_three_sum\",\"First_last\",\"Unique_letter_sum\"]]\n",
    "y=train_data[\"Gender\"]                                       \n",
    "# Split dataset into training set and test set\n",
    "X_train, X_test, y_train, y_test = train_test_split(X, y, test_size=0.70, random_state=5) # 70% training and 30% test\n",
    "\n",
    "from sklearn.ensemble import RandomForestClassifier\n",
    "\n",
    "#Create a Gaussian Classifier\n",
    "clf=RandomForestClassifier(n_estimators=100)\n",
    "\n",
    "#Train the model using the training sets y_pred=clf.predict(X_test)\n",
    "clf.fit(X_train,y_train)\n",
    "\n",
    "y_pred=clf.predict(X_test)"
   ]
  },
  {
   "cell_type": "code",
   "execution_count": 39,
   "id": "designing-textbook",
   "metadata": {
    "execution": {
     "iopub.execute_input": "2021-06-30T10:58:17.816000Z",
     "iopub.status.busy": "2021-06-30T10:58:17.815089Z",
     "iopub.status.idle": "2021-06-30T10:58:17.848019Z",
     "shell.execute_reply": "2021-06-30T10:58:17.847420Z",
     "shell.execute_reply.started": "2021-06-30T10:40:44.168859Z"
    },
    "id": "ou-zjSdEAypm",
    "outputId": "2f42df2c-58c3-407c-8a29-516abb0223a7",
    "papermill": {
     "duration": 0.077327,
     "end_time": "2021-06-30T10:58:17.848184",
     "exception": false,
     "start_time": "2021-06-30T10:58:17.770857",
     "status": "completed"
    },
    "tags": []
   },
   "outputs": [
    {
     "name": "stdout",
     "output_type": "stream",
     "text": [
      "Accuracy: 0.8944756263584036\n"
     ]
    }
   ],
   "source": [
    "from sklearn import metrics\n",
    "# Model Accuracy, how often is the classifier correct?\n",
    "print(\"Accuracy:\",metrics.accuracy_score(y_test, y_pred))"
   ]
  },
  {
   "cell_type": "code",
   "execution_count": 40,
   "id": "cardiovascular-salvation",
   "metadata": {
    "execution": {
     "iopub.execute_input": "2021-06-30T10:58:17.975648Z",
     "iopub.status.busy": "2021-06-30T10:58:17.974873Z",
     "iopub.status.idle": "2021-06-30T10:59:17.680307Z",
     "shell.execute_reply": "2021-06-30T10:59:17.680873Z",
     "shell.execute_reply.started": "2021-06-30T10:40:44.195342Z"
    },
    "id": "L_t_8SsEAypm",
    "outputId": "c9b1d23b-0239-41c0-e575-2cf6eae84ea5",
    "papermill": {
     "duration": 59.794206,
     "end_time": "2021-06-30T10:59:17.681099",
     "exception": false,
     "start_time": "2021-06-30T10:58:17.886893",
     "status": "completed"
    },
    "tags": []
   },
   "outputs": [
    {
     "name": "stdout",
     "output_type": "stream",
     "text": [
      "Saved\n"
     ]
    }
   ],
   "source": [
    "from sklearn.ensemble import RandomForestClassifier\n",
    "y = train_data[\"Gender\"]\n",
    "features = [\"name_len\",\"Word_sum\",\"Count\",\"First_letter\",\"Last_letter\",\"Vowel_count\",\"Vowel_end\",\"Race\",\"last_two_sum\",\"last_three_sum\",\"First_last\",\"Unique_letter_sum\"]\n",
    "X = pd.get_dummies(train_data[features])\n",
    "X_test = pd.get_dummies(test_data[features])\n",
    "\n",
    "model = RandomForestClassifier(n_estimators = 100)\n",
    "model.fit(X,y)\n",
    "predictions = model.predict(X_test)\n",
    "\n",
    "output = pd.DataFrame({'Id': test_data.Id ,'Gender' : predictions})\n",
    "output.to_csv('Sample_Solution_K.csv' ,index = False)\n",
    "print(\"Saved\")"
   ]
  },
  {
   "cell_type": "code",
   "execution_count": 41,
   "id": "unlimited-notebook",
   "metadata": {
    "execution": {
     "iopub.execute_input": "2021-06-30T10:59:17.767579Z",
     "iopub.status.busy": "2021-06-30T10:59:17.766811Z",
     "iopub.status.idle": "2021-06-30T10:59:17.812493Z",
     "shell.execute_reply": "2021-06-30T10:59:17.811779Z",
     "shell.execute_reply.started": "2021-06-30T10:41:36.137442Z"
    },
    "id": "idI47OX_Aypn",
    "outputId": "3d114b3e-9734-42f9-f044-e66c4c2cb8cc",
    "papermill": {
     "duration": 0.091998,
     "end_time": "2021-06-30T10:59:17.812686",
     "exception": false,
     "start_time": "2021-06-30T10:59:17.720688",
     "status": "completed"
    },
    "tags": []
   },
   "outputs": [
    {
     "data": {
      "text/html": [
       "<div>\n",
       "<style scoped>\n",
       "    .dataframe tbody tr th:only-of-type {\n",
       "        vertical-align: middle;\n",
       "    }\n",
       "\n",
       "    .dataframe tbody tr th {\n",
       "        vertical-align: top;\n",
       "    }\n",
       "\n",
       "    .dataframe thead th {\n",
       "        text-align: right;\n",
       "    }\n",
       "</style>\n",
       "<table border=\"1\" class=\"dataframe\">\n",
       "  <thead>\n",
       "    <tr style=\"text-align: right;\">\n",
       "      <th></th>\n",
       "      <th>Id</th>\n",
       "      <th>Gender</th>\n",
       "    </tr>\n",
       "  </thead>\n",
       "  <tbody>\n",
       "    <tr>\n",
       "      <th>count</th>\n",
       "      <td>99688.000000</td>\n",
       "      <td>99688.000000</td>\n",
       "    </tr>\n",
       "    <tr>\n",
       "      <th>mean</th>\n",
       "      <td>348907.500000</td>\n",
       "      <td>0.582016</td>\n",
       "    </tr>\n",
       "    <tr>\n",
       "      <th>std</th>\n",
       "      <td>28777.591155</td>\n",
       "      <td>0.493230</td>\n",
       "    </tr>\n",
       "    <tr>\n",
       "      <th>min</th>\n",
       "      <td>299064.000000</td>\n",
       "      <td>0.000000</td>\n",
       "    </tr>\n",
       "    <tr>\n",
       "      <th>25%</th>\n",
       "      <td>323985.750000</td>\n",
       "      <td>0.000000</td>\n",
       "    </tr>\n",
       "    <tr>\n",
       "      <th>50%</th>\n",
       "      <td>348907.500000</td>\n",
       "      <td>1.000000</td>\n",
       "    </tr>\n",
       "    <tr>\n",
       "      <th>75%</th>\n",
       "      <td>373829.250000</td>\n",
       "      <td>1.000000</td>\n",
       "    </tr>\n",
       "    <tr>\n",
       "      <th>max</th>\n",
       "      <td>398751.000000</td>\n",
       "      <td>1.000000</td>\n",
       "    </tr>\n",
       "  </tbody>\n",
       "</table>\n",
       "</div>"
      ],
      "text/plain": [
       "                  Id        Gender\n",
       "count   99688.000000  99688.000000\n",
       "mean   348907.500000      0.582016\n",
       "std     28777.591155      0.493230\n",
       "min    299064.000000      0.000000\n",
       "25%    323985.750000      0.000000\n",
       "50%    348907.500000      1.000000\n",
       "75%    373829.250000      1.000000\n",
       "max    398751.000000      1.000000"
      ]
     },
     "execution_count": 41,
     "metadata": {},
     "output_type": "execute_result"
    }
   ],
   "source": [
    "soln = pd.read_csv('Sample_Solution_K.csv')\n",
    "soln.describe()"
   ]
  }
 ],
 "metadata": {
  "kernelspec": {
   "display_name": "Python 3",
   "language": "python",
   "name": "python3"
  },
  "language_info": {
   "codemirror_mode": {
    "name": "ipython",
    "version": 3
   },
   "file_extension": ".py",
   "mimetype": "text/x-python",
   "name": "python",
   "nbconvert_exporter": "python",
   "pygments_lexer": "ipython3",
   "version": "3.7.10"
  },
  "papermill": {
   "default_parameters": {},
   "duration": 1048.403294,
   "end_time": "2021-06-30T10:59:19.932292",
   "environment_variables": {},
   "exception": null,
   "input_path": "__notebook__.ipynb",
   "output_path": "__notebook__.ipynb",
   "parameters": {},
   "start_time": "2021-06-30T10:41:51.528998",
   "version": "2.3.3"
  }
 },
 "nbformat": 4,
 "nbformat_minor": 5
}
